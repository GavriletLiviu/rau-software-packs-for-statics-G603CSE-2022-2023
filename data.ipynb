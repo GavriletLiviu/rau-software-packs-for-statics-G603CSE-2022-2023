{
  "nbformat": 4,
  "nbformat_minor": 0,
  "metadata": {
    "colab": {
      "provenance": []
    },
    "kernelspec": {
      "name": "python3",
      "display_name": "Python 3"
    },
    "language_info": {
      "name": "python"
    }
  },
  "cells": [
    {
      "cell_type": "code",
      "execution_count": null,
      "metadata": {
        "colab": {
          "base_uri": "https://localhost:8080/"
        },
        "id": "PyL0D10qKy7b",
        "outputId": "4a1b064f-13ec-487c-c94a-3c9dfebda168"
      },
      "outputs": [
        {
          "output_type": "execute_result",
          "data": {
            "text/plain": [
              "([[159.57, 160.45, 156.36, 155.902, 76959800],\n",
              "  [139.37, 161.19, 158.74, 160.24, 88748200],\n",
              "  [152.17, 161.19, 158.74, 160.24, 88748200],\n",
              "  [153.37, 161.19, 158.74, 160.24, 88748200],\n",
              "  [156.37, 161.19, 158.74, 160.24, 88748200]],\n",
              " ['26-11-21', '29-11-21', '30-11-21', '01-12-21', '02-12-21'])"
            ]
          },
          "metadata": {},
          "execution_count": 5
        }
      ],
      "source": [
        "labels = [\"date\", \"open\", \"high\", \"low\", \"close\", \"adj close\", \"volume\"]\n",
        "\n",
        "data = [\n",
        "    [\"26-11-21\", 159.57, 160.45, 156.36, 155.902, 76959800],\n",
        "    [\"29-11-21\", 139.37, 161.19, 158.74, 160.24, 88748200],\n",
        "    [\"30-11-21\", 152.17, 161.19, 158.74, 160.24, 88748200],\n",
        "    [\"01-12-21\", 153.37, 161.19, 158.74, 160.24, 88748200],\n",
        "    [\"02-12-21\", 156.37, 161.19, 158.74, 160.24, 88748200]\n",
        "]\n",
        "\n",
        "dates = []\n",
        "X = []\n",
        "for entry in data:\n",
        "  dates.append(entry[0])\n",
        "  X.append(entry[1:])\n",
        "X, dates"
      ]
    },
    {
      "cell_type": "code",
      "source": [
        "from google.colab import drive\n",
        "drive.mount('/content/drive')"
      ],
      "metadata": {
        "id": "IWuEs2KXaULF"
      },
      "execution_count": null,
      "outputs": []
    },
    {
      "cell_type": "code",
      "source": [
        "import numpy as np\n",
        "\n",
        "data_array = np.array(X)\n",
        "data_array\n",
        "\n",
        "# 1.59570e+02 = 1.59570 * 10^2\n",
        "# 1.234e-10 = 0.0000000001234"
      ],
      "metadata": {
        "colab": {
          "base_uri": "https://localhost:8080/"
        },
        "id": "KUJY9YYGTOcM",
        "outputId": "99036d63-3e5a-4e3c-b48b-c2544b0c6066"
      },
      "execution_count": null,
      "outputs": [
        {
          "output_type": "execute_result",
          "data": {
            "text/plain": [
              "array([[1.59570e+02, 1.60450e+02, 1.56360e+02, 1.55902e+02, 7.69598e+07],\n",
              "       [1.39370e+02, 1.61190e+02, 1.58740e+02, 1.60240e+02, 8.87482e+07],\n",
              "       [1.52170e+02, 1.61190e+02, 1.58740e+02, 1.60240e+02, 8.87482e+07],\n",
              "       [1.53370e+02, 1.61190e+02, 1.58740e+02, 1.60240e+02, 8.87482e+07],\n",
              "       [1.56370e+02, 1.61190e+02, 1.58740e+02, 1.60240e+02, 8.87482e+07]])"
            ]
          },
          "metadata": {},
          "execution_count": 6
        }
      ]
    },
    {
      "cell_type": "code",
      "source": [
        "X0 = data_array[:, 0]\n",
        "X0_mean = np.mean(X0)\n",
        "X0_median = np.median(X0)\n",
        "X0_std = np.std(X0)\n",
        "X0_25p = np.quantile(X0, 0.25)\n",
        "X0_75p = np.quantile(X0, 0.75)\n",
        "\n",
        "print(f\"Mean = {X0_mean}. Median = {X0_median}. Std = {X0_std}. 25% = {X0_25p}. 75% = {X0_75p}\")"
      ],
      "metadata": {
        "colab": {
          "base_uri": "https://localhost:8080/"
        },
        "id": "E438wekPTi5i",
        "outputId": "6b222a08-662d-4772-a989-b361e7b3122d"
      },
      "execution_count": null,
      "outputs": [
        {
          "output_type": "stream",
          "name": "stdout",
          "text": [
            "Mean = 152.17000000000002. Median = 153.37. Std = 6.89463559588177. 25% = 152.17. 75% = 156.37\n"
          ]
        }
      ]
    },
    {
      "cell_type": "code",
      "source": [
        "sample = [12, 13, 15, 16, 18, 18, 19, 20]\n",
        "np.quantile(sample, 0.25)\n",
        "np.quantile(sample, 0.75)"
      ],
      "metadata": {
        "colab": {
          "base_uri": "https://localhost:8080/"
        },
        "id": "A3s5VJJ_VdnI",
        "outputId": "a043844c-733b-4545-be2d-6849673ea89f"
      },
      "execution_count": null,
      "outputs": [
        {
          "output_type": "execute_result",
          "data": {
            "text/plain": [
              "18.25"
            ]
          },
          "metadata": {},
          "execution_count": 13
        }
      ]
    },
    {
      "cell_type": "code",
      "source": [
        "X1 = data_array[:, 1]\n",
        "X1_mean = np.mean(X1)\n",
        "X1_median = np.median(X1)\n",
        "X1_std = np.std(X1)\n",
        "X1_25p = np.quantile(X1, 0.25)\n",
        "X1_75p = np.quantile(X1, 0.75)\n",
        "\n",
        "print(f\"Mean = {X1_mean}. Median = {X1_median}. Std = {X1_std}. 25% = {X1_25p}. 75% = {X1_75p}\")"
      ],
      "metadata": {
        "colab": {
          "base_uri": "https://localhost:8080/"
        },
        "id": "nSMD-uQBY2m3",
        "outputId": "1cde3b81-4816-4b68-9319-cfbfc701f136"
      },
      "execution_count": null,
      "outputs": [
        {
          "output_type": "stream",
          "name": "stdout",
          "text": [
            "Mean = 161.042. Median = 161.19. Std = 0.29600000000000365. 25% = 161.19. 75% = 161.19\n"
          ]
        }
      ]
    },
    {
      "cell_type": "code",
      "source": [
        "import matplotlib.pyplot as plt \n",
        "\n",
        "_ = plt.figure()\n",
        "plt.scatter(range(len(X0)), X0, s=100)\n",
        "plt.show()"
      ],
      "metadata": {
        "id": "8BeBvrFsZ25-",
        "colab": {
          "base_uri": "https://localhost:8080/",
          "height": 265
        },
        "outputId": "492ac58e-dacc-4c75-e4e8-56a5213eed55"
      },
      "execution_count": null,
      "outputs": [
        {
          "output_type": "display_data",
          "data": {
            "text/plain": [
              "<Figure size 432x288 with 1 Axes>"
            ],
            "image/png": "[encoded data removed]"
          },
          "metadata": {
            "needs_background": "light"
          }
        }
      ]
    },
    {
      "cell_type": "code",
      "source": [
        "_ = plt.figure()\n",
        "plt.bar(range(len(X0)), X0)\n",
        "plt.show()"
      ],
      "metadata": {
        "colab": {
          "base_uri": "https://localhost:8080/",
          "height": 265
        },
        "id": "qTa2_Z6_lzci",
        "outputId": "eaf66c22-d12f-442f-8e60-67b33d1c5ed6"
      },
      "execution_count": null,
      "outputs": [
        {
          "output_type": "display_data",
          "data": {
            "text/plain": [
              "<Figure size 432x288 with 1 Axes>"
            ],
            "image/png": "[encoded data removed]"
          },
          "metadata": {
            "needs_background": "light"
          }
        }
      ]
    },
    {
      "cell_type": "code",
      "source": [
        "_ = plt.figure()\n",
        "plt.hist(X0, bins=5)\n",
        "plt.show()"
      ],
      "metadata": {
        "colab": {
          "base_uri": "https://localhost:8080/",
          "height": 265
        },
        "id": "sA6HBeBbl9k4",
        "outputId": "962ddbd8-522c-40eb-c6cb-de1246d34f01"
      },
      "execution_count": null,
      "outputs": [
        {
          "output_type": "display_data",
          "data": {
            "text/plain": [
              "<Figure size 432x288 with 1 Axes>"
            ],
            "image/png": "[encoded data removed]"
          },
          "metadata": {
            "needs_background": "light"
          }
        }
      ]
    },
    {
      "cell_type": "code",
      "source": [
        "features = [\"is_windy\", \"is_humid\", \"pressure\", \"is_sunny\"]\n",
        "# pressure = [0, 1, 2, 4, 5]\n",
        "# is_windy = [0, 1]\n",
        "# is_humid = [0, 1]\n",
        "# is_sunny = [0, 1]\n",
        "categorical_data = [[1, 1, 5, 0],\n",
        "                    [1, 1, 5, 0],\n",
        "                    [0, 0, 2, 1],\n",
        "                    [0, 1, 3, 0],\n",
        "                    [1, 1, 3, 1]]\n",
        "X = np.array(categorical_data)"
      ],
      "metadata": {
        "id": "RaQHX9VKnbN4"
      },
      "execution_count": null,
      "outputs": []
    },
    {
      "cell_type": "code",
      "source": [
        "X0 = X[:, 0]\n",
        "_ = plt.figure()\n",
        "plt.hist(X0, bins=2,rwidth=0.7)\n",
        "plt.show()"
      ],
      "metadata": {
        "colab": {
          "base_uri": "https://localhost:8080/",
          "height": 265
        },
        "id": "cCVE2XBeuOA6",
        "outputId": "a4e83853-58a3-4f40-84af-91f665853efc"
      },
      "execution_count": null,
      "outputs": [
        {
          "output_type": "display_data",
          "data": {
            "text/plain": [
              "<Figure size 432x288 with 1 Axes>"
            ],
            "image/png": "[encoded data removed]"
          },
          "metadata": {
            "needs_background": "light"
          }
        }
      ]
    },
    {
      "cell_type": "code",
      "source": [
        "X0 = X[0, :]\n",
        "X0 = X0 / np.linalg.norm(X0)\n",
        "X1 = X[1, :]\n",
        "X1 = X1 / np.linalg.norm(X1)\n",
        "np.dot(X0, X1)"
      ],
      "metadata": {
        "colab": {
          "base_uri": "https://localhost:8080/"
        },
        "id": "TbBWdyjLu0Yp",
        "outputId": "8ee36de6-28c2-462d-d654-6642c763191b"
      },
      "execution_count": null,
      "outputs": [
        {
          "output_type": "execute_result",
          "data": {
            "text/plain": [
              "1.0"
            ]
          },
          "metadata": {},
          "execution_count": 28
        }
      ]
    },
    {
      "cell_type": "code",
      "source": [
        "data_array[:, -1] = data_array[:, -1] / np.max(data_array[:, -1])\n",
        "data_array[:, -1]"
      ],
      "metadata": {
        "colab": {
          "base_uri": "https://localhost:8080/"
        },
        "id": "mUFcuSHUxYaU",
        "outputId": "bc7daed4-20e6-4de8-ce28-49033e6a3bb0"
      },
      "execution_count": null,
      "outputs": [
        {
          "output_type": "execute_result",
          "data": {
            "text/plain": [
              "array([0.86717026, 1.        , 1.        , 1.        , 1.        ])"
            ]
          },
          "metadata": {},
          "execution_count": 32
        }
      ]
    },
    {
      "cell_type": "code",
      "source": [
        "data_array[:, 0] = (data_array[:, 0] - np.min(data_array[:, 0])) / (np.max(data_array[:, 0]) - np.min(data_array[:, 0]))\n",
        "data_array[:, 1] = (data_array[:, 1] - np.min(data_array[:, 1])) / (np.max(data_array[:, 1]) - np.min(data_array[:, 1]))\n",
        "data_array[:, 2] = (data_array[:, 2] - np.min(data_array[:, 2])) / (np.max(data_array[:, 2]) - np.min(data_array[:, 2]))\n",
        "data_array[:, 3] = (data_array[:, 3] - np.min(data_array[:, 3])) / (np.max(data_array[:, 3]) - np.min(data_array[:, 3]))\n",
        "data_array[:, 4] = (data_array[:, 4] - np.min(data_array[:, 4])) / (np.max(data_array[:, 4]) - np.min(data_array[:, 4]))\n",
        "\n",
        "data_array[:, 0]"
      ],
      "metadata": {
        "colab": {
          "base_uri": "https://localhost:8080/"
        },
        "id": "S43xXATqysXt",
        "outputId": "e46395c5-75db-4c23-c375-0a20b970b216"
      },
      "execution_count": null,
      "outputs": [
        {
          "output_type": "execute_result",
          "data": {
            "text/plain": [
              "array([1.        , 0.        , 0.63366337, 0.69306931, 0.84158416])"
            ]
          },
          "metadata": {},
          "execution_count": 35
        }
      ]
    },
    {
      "cell_type": "code",
      "source": [
        "_ = plt.figure()\n",
        "plt.imshow(data_array)\n",
        "plt.show()\n"
      ],
      "metadata": {
        "colab": {
          "base_uri": "https://localhost:8080/",
          "height": 265
        },
        "id": "aNrPzCXRzKz9",
        "outputId": "0a31bbe3-d9aa-412a-dcee-60c94eb5337c"
      },
      "execution_count": null,
      "outputs": [
        {
          "output_type": "display_data",
          "data": {
            "text/plain": [
              "<Figure size 432x288 with 1 Axes>"
            ],
            "image/png": "[encoded data removed]"
          },
          "metadata": {
            "needs_background": "light"
          }
        }
      ]
    },
    {
      "cell_type": "code",
      "source": [
        "t1 = \"A a a a a a a A A b b b b s s s s s r r r r t y u u u u\"\n",
        "t1 = t1.lower()\n",
        "terms1 = t1.split(\" \")\n",
        "\n",
        "# t2 = \"B B a a a A A b b b b s s s r r t y u u u u\"\n",
        "t2 = \"A a a a a a a A A b b b b s s s s s r r r r t y u u u u\"\n",
        "t2 = t2.lower()\n",
        "terms2 = t2.split(\" \")\n",
        "\n",
        "terms1_count = {}\n",
        "for c in terms1:\n",
        "  if terms1_count.get(c):\n",
        "    terms1_count[c] += 1\n",
        "  else:\n",
        "    terms1_count[c] = 1\n",
        "\n",
        "terms2_count = {}\n",
        "for c in terms2:\n",
        "  if terms2_count.get(c):\n",
        "    terms2_count[c] += 1\n",
        "  else:\n",
        "    terms2_count[c] = 1\n",
        "\n",
        "X = [list(terms1_count.values()), list(terms2_count.values())]\n",
        "X = np.array(X)\n",
        "X[0, :] = X[0, :] / np.linalg.norm(X[0, :])\n",
        "X[1, :] = X[1, :] / np.linalg.norm(X[1, :])\n",
        "np.dot(X[0,:], X[1,:])"
      ],
      "metadata": {
        "colab": {
          "base_uri": "https://localhost:8080/"
        },
        "id": "yjq7p-Ehzyb0",
        "outputId": "5926da5a-0811-4f71-a54b-ae70bc05bf0d"
      },
      "execution_count": null,
      "outputs": [
        {
          "output_type": "execute_result",
          "data": {
            "text/plain": [
              "0"
            ]
          },
          "metadata": {},
          "execution_count": 42
        }
      ]
    },
    {
      "cell_type": "code",
      "source": [
        "X.shape"
      ],
      "metadata": {
        "colab": {
          "base_uri": "https://localhost:8080/"
        },
        "id": "GM4nwX-E1zpy",
        "outputId": "efff9b91-e3c5-4244-9964-5543894da672"
      },
      "execution_count": null,
      "outputs": [
        {
          "output_type": "execute_result",
          "data": {
            "text/plain": [
              "(2, 7)"
            ]
          },
          "metadata": {},
          "execution_count": 43
        }
      ]
    },
    {
      "cell_type": "code",
      "source": [],
      "metadata": {
        "id": "D1ta6Oiv16r6"
      },
      "execution_count": null,
      "outputs": []
    }
  ]
}